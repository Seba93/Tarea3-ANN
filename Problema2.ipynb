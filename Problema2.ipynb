{
 "cells": [
  {
   "cell_type": "markdown",
   "metadata": {},
   "source": [
    "# 2. Entrenamiento de RNNs en una Serie de Tiempo"
   ]
  },
  {
   "cell_type": "markdown",
   "metadata": {},
   "source": [
    "**2.0 Imports necesarios**"
   ]
  },
  {
   "cell_type": "code",
   "execution_count": 129,
   "metadata": {},
   "outputs": [],
   "source": [
    "import pandas\n",
    "from sklearn.preprocessing import MinMaxScaler\n",
    "import math\n",
    "import numpy as np\n",
    "from keras.models import Sequential\n",
    "from keras.layers import Dense\n",
    "from keras.layers import LSTM\n",
    "from sklearn.metrics import mean_squared_error\n",
    "import matplotlib.pyplot as plt"
   ]
  },
  {
   "cell_type": "markdown",
   "metadata": {},
   "source": [
    "**2.1 Creación de conjuntos de entrenamiento y prueba**"
   ]
  },
  {
   "cell_type": "markdown",
   "metadata": {},
   "source": [
    "En primer lugar, se crean los conjuntos de entrenamiento y de prueba por medio de la función *create_sets*. Esta función también se encarga de escalar los datos de cada conjunto. El dataset original está compuesto por un total de 144 registros, de los cuales 96 estarán destinados a conformar el conjunto de entrenamiento, mientras que los 48 restantes formarán parte del conjunto de pruebas."
   ]
  },
  {
   "cell_type": "code",
   "execution_count": 130,
   "metadata": {},
   "outputs": [],
   "source": [
    "# Función para la creación de conjuntos de entrenamiento y prueba\n",
    "def create_sets(file_name):\n",
    "    # Se lee archivo que contiene todos los datos\n",
    "    dataframe = pandas.read_csv(file_name, sep=',', usecols=[1], engine='python', skipfooter=3)\n",
    "    # Se utiliza precisión de 32 bits para atributos numéricos\n",
    "    dataframe[:] = dataframe[:].astype('float32')\n",
    "    # Se crean conjuntos de entrenamiento y de prueba\n",
    "    df_train, df_test = dataframe[0:96].values, dataframe[96:].values\n",
    "    # Se escalan los datos de cada conjunto\n",
    "    scaler = MinMaxScaler(feature_range=(0, 1)).fit(df_train)\n",
    "    stream_train_scaled = scaler.transform(df_train)\n",
    "    stream_test_scaled = scaler.transform(df_test)\n",
    "    return scaler, list(stream_train_scaled), list(stream_test_scaled)\n",
    "\n",
    "# Se crean conjuntos a partir de archivo .csv\n",
    "scaler, train_set, test_set = create_sets('international-airline-passengers.csv')"
   ]
  },
  {
   "cell_type": "markdown",
   "metadata": {},
   "source": [
    "**2.2 Generación de atributos predictores y atributo a predecir**"
   ]
  },
  {
   "cell_type": "markdown",
   "metadata": {},
   "source": [
    "Ya creados los conjuntos de entrenamiento y de prueba, se procede a construir, para cada caso, la matriz X y el vector Y. La matriz X contendrá, para cada registro, la cantidad de pasajeros en los tiempos x(t-2), x(t-1) y x(t), o en otras palabras, los atributos predictores. Por otro lado, el vector Y almacenará en la casilla correspondiente la cantidad de pasajeros en el tiempo x(t+1), es decir, el atributo a predecir. El procedimiento descrito será llevado a cabo por medio de la función *create_dataset*."
   ]
  },
  {
   "cell_type": "code",
   "execution_count": 137,
   "metadata": {
    "collapsed": true
   },
   "outputs": [],
   "source": [
    "# Función encargada de separar valores predictores y valores a predecir\n",
    "def create_dataset(sequence, lag):\n",
    "    dataX = []\n",
    "    dataY = []\n",
    "    for i in range(lag, len(sequence)):\n",
    "        # Se crea matriz X\n",
    "        dataX.append(sequence[i - lag : i])\n",
    "        # Se crea vector Y\n",
    "        dataY.append(sequence[i])\n",
    "    return np.array(dataX), np.array(dataY)"
   ]
  },
  {
   "cell_type": "markdown",
   "metadata": {},
   "source": [
    "Así, se crea la matriz X y el vector Y en base a los conjuntos de entrenamiento y de prueba. Se utilizará lag = 3, en primera instancia."
   ]
  },
  {
   "cell_type": "code",
   "execution_count": 138,
   "metadata": {
    "collapsed": true
   },
   "outputs": [],
   "source": [
    "# Inicialmente, se usará lag = 3\n",
    "lag = 3\n",
    "# Se crea matriz X y vector Y en base a conjuntos de entrenamiento y prueba\n",
    "trainX, trainY = create_dataset(train_set, lag)\n",
    "testX, testY = create_dataset(test_set, lag)"
   ]
  },
  {
   "cell_type": "code",
   "execution_count": 140,
   "metadata": {
    "collapsed": true
   },
   "outputs": [],
   "source": [
    "trainX = np.reshape(trainX, (trainX.shape[0], 1, trainX.shape[1]))\n",
    "testX = np.reshape(testX, (testX.shape[0], 1, testX.shape[1]))"
   ]
  },
  {
   "cell_type": "markdown",
   "metadata": {},
   "source": [
    "De esta forma, la matriz X poseen dimensiones (número de ejemplos, time step, número de atributos predictores) tanto para el caso de entrenamiento como para el caso de pruebas."
   ]
  },
  {
   "cell_type": "markdown",
   "metadata": {},
   "source": [
    "**2.3 Entrenamiento de red LSTM**"
   ]
  },
  {
   "cell_type": "markdown",
   "metadata": {},
   "source": [
    "A partir de las matrices creadas en la sección anterior, se entrena y posteriormente se evalúa una red LSTM. Recordar que se está utilizando un lag de 3."
   ]
  },
  {
   "cell_type": "code",
   "execution_count": 141,
   "metadata": {
    "scrolled": true
   },
   "outputs": [
    {
     "name": "stdout",
     "output_type": "stream",
     "text": [
      "Epoch 1/100\n",
      "93/93 [==============================] - 0s - loss: 0.1007     \n",
      "Epoch 2/100\n",
      "93/93 [==============================] - 0s - loss: 0.0375     \n",
      "Epoch 3/100\n",
      "93/93 [==============================] - 0s - loss: 0.0217     \n",
      "Epoch 4/100\n",
      "93/93 [==============================] - 0s - loss: 0.0184     \n",
      "Epoch 5/100\n",
      "93/93 [==============================] - 0s - loss: 0.0165     \n",
      "Epoch 6/100\n",
      "93/93 [==============================] - 0s - loss: 0.0147     \n",
      "Epoch 7/100\n",
      "93/93 [==============================] - 0s - loss: 0.0134     \n",
      "Epoch 8/100\n",
      "93/93 [==============================] - 0s - loss: 0.0124     \n",
      "Epoch 9/100\n",
      "93/93 [==============================] - 0s - loss: 0.0115     \n",
      "Epoch 10/100\n",
      "93/93 [==============================] - 0s - loss: 0.0110     \n",
      "Epoch 11/100\n",
      "93/93 [==============================] - 0s - loss: 0.0108     \n",
      "Epoch 12/100\n",
      "93/93 [==============================] - 0s - loss: 0.0102     \n",
      "Epoch 13/100\n",
      "93/93 [==============================] - 0s - loss: 0.0100     \n",
      "Epoch 14/100\n",
      "93/93 [==============================] - 0s - loss: 0.0096     \n",
      "Epoch 15/100\n",
      "93/93 [==============================] - 0s - loss: 0.0095     \n",
      "Epoch 16/100\n",
      "93/93 [==============================] - 0s - loss: 0.0093     \n",
      "Epoch 17/100\n",
      "93/93 [==============================] - 0s - loss: 0.0092     \n",
      "Epoch 18/100\n",
      "93/93 [==============================] - 0s - loss: 0.0090     \n",
      "Epoch 19/100\n",
      "93/93 [==============================] - 0s - loss: 0.0090     \n",
      "Epoch 20/100\n",
      "93/93 [==============================] - 0s - loss: 0.0088     \n",
      "Epoch 21/100\n",
      "93/93 [==============================] - 0s - loss: 0.0086     \n",
      "Epoch 22/100\n",
      "93/93 [==============================] - 0s - loss: 0.0088     \n",
      "Epoch 23/100\n",
      "93/93 [==============================] - 0s - loss: 0.0085     \n",
      "Epoch 24/100\n",
      "93/93 [==============================] - 0s - loss: 0.0084     \n",
      "Epoch 25/100\n",
      "93/93 [==============================] - 0s - loss: 0.0084     \n",
      "Epoch 26/100\n",
      "93/93 [==============================] - 0s - loss: 0.0081     \n",
      "Epoch 27/100\n",
      "93/93 [==============================] - 0s - loss: 0.0082     \n",
      "Epoch 28/100\n",
      "93/93 [==============================] - 0s - loss: 0.0081     \n",
      "Epoch 29/100\n",
      "93/93 [==============================] - 0s - loss: 0.0079     \n",
      "Epoch 30/100\n",
      "93/93 [==============================] - 0s - loss: 0.0078     \n",
      "Epoch 31/100\n",
      "93/93 [==============================] - 0s - loss: 0.0077     \n",
      "Epoch 32/100\n",
      "93/93 [==============================] - 0s - loss: 0.0078     \n",
      "Epoch 33/100\n",
      "93/93 [==============================] - 0s - loss: 0.0076     \n",
      "Epoch 34/100\n",
      "93/93 [==============================] - 0s - loss: 0.0075     \n",
      "Epoch 35/100\n",
      "93/93 [==============================] - 0s - loss: 0.0077     \n",
      "Epoch 36/100\n",
      "93/93 [==============================] - 0s - loss: 0.0073     \n",
      "Epoch 37/100\n",
      "93/93 [==============================] - 0s - loss: 0.0072     \n",
      "Epoch 38/100\n",
      "93/93 [==============================] - 0s - loss: 0.0072     \n",
      "Epoch 39/100\n",
      "93/93 [==============================] - 0s - loss: 0.0071     \n",
      "Epoch 40/100\n",
      "93/93 [==============================] - 0s - loss: 0.0071     \n",
      "Epoch 41/100\n",
      "93/93 [==============================] - 0s - loss: 0.0070     \n",
      "Epoch 42/100\n",
      "93/93 [==============================] - 0s - loss: 0.0069     \n",
      "Epoch 43/100\n",
      "93/93 [==============================] - 0s - loss: 0.0069     \n",
      "Epoch 44/100\n",
      "93/93 [==============================] - 0s - loss: 0.0069     \n",
      "Epoch 45/100\n",
      "93/93 [==============================] - 0s - loss: 0.0068     \n",
      "Epoch 46/100\n",
      "93/93 [==============================] - 0s - loss: 0.0067     \n",
      "Epoch 47/100\n",
      "93/93 [==============================] - 0s - loss: 0.0067     \n",
      "Epoch 48/100\n",
      "93/93 [==============================] - 0s - loss: 0.0067     \n",
      "Epoch 49/100\n",
      "93/93 [==============================] - 0s - loss: 0.0066     \n",
      "Epoch 50/100\n",
      "93/93 [==============================] - 0s - loss: 0.0067     \n",
      "Epoch 51/100\n",
      "93/93 [==============================] - 0s - loss: 0.0065     \n",
      "Epoch 52/100\n",
      "93/93 [==============================] - 0s - loss: 0.0065     \n",
      "Epoch 53/100\n",
      "93/93 [==============================] - 0s - loss: 0.0064     \n",
      "Epoch 54/100\n",
      "93/93 [==============================] - 0s - loss: 0.0064     \n",
      "Epoch 55/100\n",
      "93/93 [==============================] - 0s - loss: 0.0064     \n",
      "Epoch 56/100\n",
      "93/93 [==============================] - 0s - loss: 0.0065     \n",
      "Epoch 57/100\n",
      "93/93 [==============================] - 0s - loss: 0.0062     \n",
      "Epoch 58/100\n",
      "93/93 [==============================] - 0s - loss: 0.0063     \n",
      "Epoch 59/100\n",
      "93/93 [==============================] - 0s - loss: 0.0064     \n",
      "Epoch 60/100\n",
      "93/93 [==============================] - 0s - loss: 0.0063     \n",
      "Epoch 61/100\n",
      "93/93 [==============================] - 0s - loss: 0.0062     \n",
      "Epoch 62/100\n",
      "93/93 [==============================] - 0s - loss: 0.0060     \n",
      "Epoch 63/100\n",
      "93/93 [==============================] - 0s - loss: 0.0060     \n",
      "Epoch 64/100\n",
      "93/93 [==============================] - 0s - loss: 0.0060     \n",
      "Epoch 65/100\n",
      "93/93 [==============================] - 0s - loss: 0.0061     \n",
      "Epoch 66/100\n",
      "93/93 [==============================] - 0s - loss: 0.0060     \n",
      "Epoch 67/100\n",
      "93/93 [==============================] - 0s - loss: 0.0059     \n",
      "Epoch 68/100\n",
      "93/93 [==============================] - 0s - loss: 0.0057     \n",
      "Epoch 69/100\n",
      "93/93 [==============================] - 0s - loss: 0.0060     \n",
      "Epoch 70/100\n",
      "93/93 [==============================] - 0s - loss: 0.0059     \n",
      "Epoch 71/100\n",
      "93/93 [==============================] - 0s - loss: 0.0059     \n",
      "Epoch 72/100\n",
      "93/93 [==============================] - 0s - loss: 0.0059     \n",
      "Epoch 73/100\n",
      "93/93 [==============================] - 0s - loss: 0.0060     \n",
      "Epoch 74/100\n",
      "93/93 [==============================] - 0s - loss: 0.0060     \n",
      "Epoch 75/100\n",
      "93/93 [==============================] - 0s - loss: 0.0058     \n",
      "Epoch 76/100\n",
      "93/93 [==============================] - 0s - loss: 0.0059     \n",
      "Epoch 77/100\n",
      "93/93 [==============================] - 0s - loss: 0.0058     \n",
      "Epoch 78/100\n",
      "93/93 [==============================] - 0s - loss: 0.0058     \n",
      "Epoch 79/100\n",
      "93/93 [==============================] - 0s - loss: 0.0057     \n",
      "Epoch 80/100\n",
      "93/93 [==============================] - 0s - loss: 0.0059     \n",
      "Epoch 81/100\n",
      "93/93 [==============================] - 0s - loss: 0.0058     \n",
      "Epoch 82/100\n",
      "93/93 [==============================] - 0s - loss: 0.0058     \n",
      "Epoch 83/100\n",
      "93/93 [==============================] - 0s - loss: 0.0057     \n",
      "Epoch 84/100\n",
      "93/93 [==============================] - 0s - loss: 0.0056     \n",
      "Epoch 85/100\n",
      "93/93 [==============================] - 0s - loss: 0.0057     \n",
      "Epoch 86/100\n",
      "93/93 [==============================] - 0s - loss: 0.0058     \n",
      "Epoch 87/100\n",
      "93/93 [==============================] - 0s - loss: 0.0055     \n",
      "Epoch 88/100\n",
      "93/93 [==============================] - 0s - loss: 0.0056     \n",
      "Epoch 89/100\n",
      "93/93 [==============================] - 0s - loss: 0.0057     \n",
      "Epoch 90/100\n",
      "93/93 [==============================] - 0s - loss: 0.0058     \n",
      "Epoch 91/100\n",
      "93/93 [==============================] - 0s - loss: 0.0055     \n",
      "Epoch 92/100\n",
      "93/93 [==============================] - 0s - loss: 0.0057     \n",
      "Epoch 93/100\n",
      "93/93 [==============================] - 0s - loss: 0.0055     \n",
      "Epoch 94/100\n",
      "93/93 [==============================] - 0s - loss: 0.0055     \n",
      "Epoch 95/100\n",
      "93/93 [==============================] - 0s - loss: 0.0053     \n",
      "Epoch 96/100\n",
      "93/93 [==============================] - 0s - loss: 0.0056     \n",
      "Epoch 97/100\n",
      "93/93 [==============================] - 0s - loss: 0.0055     \n",
      "Epoch 98/100\n",
      "93/93 [==============================] - 0s - loss: 0.0055     \n",
      "Epoch 99/100\n",
      "93/93 [==============================] - 0s - loss: 0.0056     \n",
      "Epoch 100/100\n",
      "93/93 [==============================] - 0s - loss: 0.0054     \n"
     ]
    },
    {
     "data": {
      "text/plain": [
       "<keras.callbacks.History at 0x7f96b7602b50>"
      ]
     },
     "execution_count": 141,
     "metadata": {},
     "output_type": "execute_result"
    }
   ],
   "source": [
    "model = Sequential()\n",
    "model.add(LSTM(4, input_shape=(None, lag), activation='tanh', recurrent_activation='sigmoid'))\n",
    "model.add(Dense(1))\n",
    "model.compile(loss='mean_squared_error', optimizer='adam')\n",
    "model.fit(trainX, trainY, nb_epoch=100, batch_size=1)"
   ]
  },
  {
   "cell_type": "markdown",
   "metadata": {},
   "source": [
    "**2.4 Determinación de error y de prueba**"
   ]
  },
  {
   "cell_type": "markdown",
   "metadata": {},
   "source": [
    "..."
   ]
  },
  {
   "cell_type": "code",
   "execution_count": 142,
   "metadata": {},
   "outputs": [],
   "source": [
    "trainPredict = model.predict(trainX)\n",
    "testPredict = model.predict(testX)\n",
    "trainPredict = scaler.inverse_transform(trainPredict)\n",
    "trainY = scaler.inverse_transform(trainY)\n",
    "testPredict = scaler.inverse_transform(testPredict)\n",
    "testY = scaler.inverse_transform(testY)"
   ]
  },
  {
   "cell_type": "markdown",
   "metadata": {},
   "source": [
    "..."
   ]
  },
  {
   "cell_type": "code",
   "execution_count": 144,
   "metadata": {},
   "outputs": [
    {
     "name": "stdout",
     "output_type": "stream",
     "text": [
      "Error de entrenamiento: 22.6987545798 RMSE\n",
      "Error de prueba: 66.6861161407 RMSE\n"
     ]
    }
   ],
   "source": [
    "trainScore = math.sqrt(mean_squared_error(trainY, trainPredict))\n",
    "testScore = math.sqrt(mean_squared_error(testY, testPredict))\n",
    "print 'Error de entrenamiento:', trainScore, 'RMSE'\n",
    "print 'Error de prueba:', testScore, 'RMSE'"
   ]
  },
  {
   "cell_type": "markdown",
   "metadata": {},
   "source": [
    "..."
   ]
  },
  {
   "cell_type": "markdown",
   "metadata": {},
   "source": [
    "**2.5 Comparación de predicciones**"
   ]
  },
  {
   "cell_type": "code",
   "execution_count": 145,
   "metadata": {},
   "outputs": [
    {
     "data": {
      "image/png": "[encoded data removed]",
      "text/plain": [
       "<matplotlib.figure.Figure at 0x7f96b7bd4250>"
      ]
     },
     "metadata": {},
     "output_type": "display_data"
    }
   ],
   "source": [
    "plt.plot(range(len(train_set)), scaler.inverse_transform(train_set), 'b')\n",
    "plt.plot(range(len(train_set))[lag:], list(trainPredict), 'r')\n",
    "plt.title('Valor de la serie vs Tiempo (Caso entrenamiento)')\n",
    "plt.xlabel('Tiempo')\n",
    "plt.ylabel('Valor de la serie')\n",
    "plt.legend(['Serie original', 'Serie predicha'], loc='best')\n",
    "plt.show()"
   ]
  },
  {
   "cell_type": "code",
   "execution_count": 147,
   "metadata": {},
   "outputs": [
    {
     "data": {
      "image/png": "[encoded data removed]",
      "text/plain": [
       "<matplotlib.figure.Figure at 0x7f96c00b3310>"
      ]
     },
     "metadata": {},
     "output_type": "display_data"
    }
   ],
   "source": [
    "plt.plot(range(len(test_set)), scaler.inverse_transform(test_set), 'b')\n",
    "plt.plot(range(len(test_set))[lag:], list(testPredict), 'r')\n",
    "plt.title('Valor de la serie vs Tiempo (Caso prueba)')\n",
    "plt.xlabel('Tiempo')\n",
    "plt.ylabel('Valor de la serie')\n",
    "plt.legend(['Serie original', 'Serie predicha'], loc='best')\n",
    "plt.show()"
   ]
  },
  {
   "cell_type": "markdown",
   "metadata": {},
   "source": [
    "..."
   ]
  },
  {
   "cell_type": "markdown",
   "metadata": {},
   "source": []
  }
 ],
 "metadata": {
  "kernelspec": {
   "display_name": "Python 2",
   "language": "python",
   "name": "python2"
  },
  "language_info": {
   "codemirror_mode": {
    "name": "ipython",
    "version": 2
   },
   "file_extension": ".py",
   "mimetype": "text/x-python",
   "name": "python",
   "nbconvert_exporter": "python",
   "pygments_lexer": "ipython2",
   "version": "2.7.12"
  }
 },
 "nbformat": 4,
 "nbformat_minor": 2
}
